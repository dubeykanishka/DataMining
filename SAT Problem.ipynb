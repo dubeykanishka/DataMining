{
  "nbformat": 4,
  "nbformat_minor": 0,
  "metadata": {
    "colab": {
      "name": "CS6405_Assignment2_121101939.ipynb",
      "provenance": [],
      "collapsed_sections": []
    },
    "kernelspec": {
      "name": "python3",
      "display_name": "Python 3"
    },
    "language_info": {
      "name": "python"
    }
  },
  "cells": [
    {
      "cell_type": "code",
      "source": [
        "import numpy as np\n",
        "import pandas as pd\n",
        "import matplotlib.pyplot as plt\n",
        "import seaborn as sns"
      ],
      "metadata": {
        "id": "ulVLriESQl34"
      },
      "execution_count": 29,
      "outputs": []
    },
    {
      "cell_type": "code",
      "execution_count": 30,
      "metadata": {
        "id": "fKqldyDjQZyH"
      },
      "outputs": [],
      "source": [
        "df = pd.read_csv(\"https://github.com/andvise/DataAnalyticsDatasets/blob/f4c1e07915ddfe98f0f5434ec3f0e7f3900f35ab/dm_assignment2/sat_dataset_train.csv?raw=True\")"
      ]
    },
    {
      "cell_type": "code",
      "source": [
        "df"
      ],
      "metadata": {
        "colab": {
          "base_uri": "https://localhost:8080/",
          "height": 505
        },
        "id": "vF1xC6tIQlGe",
        "outputId": "b05a56f1-583f-4bd3-f627-167064d98428"
      },
      "execution_count": 31,
      "outputs": [
        {
          "output_type": "execute_result",
          "data": {
            "text/plain": [
              "        c    v  clauses_vars_ratio  vars_clauses_ratio  vcg_var_mean  \\\n",
              "0     420   10           42.000000            0.023810      0.600000   \n",
              "1     230   20           11.500000            0.086957      0.137826   \n",
              "2     240   16           15.000000            0.066667      0.300000   \n",
              "3     424   30           14.133333            0.070755      0.226415   \n",
              "4     162   19            8.526316            0.117284      0.139701   \n",
              "...   ...  ...                 ...                 ...           ...   \n",
              "1924  910   50           18.200000            0.054945      0.045055   \n",
              "1925  440   30           14.666667            0.068182      0.229091   \n",
              "1926  372   28           13.285714            0.075269      0.103111   \n",
              "1927  821  181            4.535912            0.220463      0.019105   \n",
              "1928  775   90            8.611111            0.116129      0.033118   \n",
              "\n",
              "      vcg_var_coeff  vcg_var_min  vcg_var_max  vcg_var_entropy  \\\n",
              "0          0.000000     0.600000     0.600000         0.000000   \n",
              "1          0.089281     0.117391     0.160870         2.180946   \n",
              "2          0.000000     0.300000     0.300000         0.000000   \n",
              "3          0.485913     0.056604     0.452830         2.220088   \n",
              "4          0.121821     0.111111     0.185185         1.940843   \n",
              "...             ...          ...          ...              ...   \n",
              "1924       0.201127     0.024176     0.067033         3.204742   \n",
              "1925       0.463952     0.054545     0.436364         2.239837   \n",
              "1926       0.081916     0.080645     0.112903         2.008196   \n",
              "1927       0.033859     0.017052     0.019488         0.696675   \n",
              "1928       0.018366     0.032258     0.033548         0.636514   \n",
              "\n",
              "      vcg_clause_mean  ...  rwh_0_max    rwh_1_mean  rwh_1_coeff  \\\n",
              "0            0.600000  ...    78750.0  7.875000e-06     0.000000   \n",
              "1            0.137826  ...  6646875.0  1.743372e+04     1.000000   \n",
              "2            0.300000  ...   500000.0  1.525879e+03     0.000000   \n",
              "3            0.226415  ...    87500.0  1.223252e-04     1.000000   \n",
              "4            0.139701  ...  5859400.0  1.659149e+04     1.000000   \n",
              "...               ...  ...        ...           ...          ...   \n",
              "1924         0.045055  ...  7031250.0  5.937497e+03     1.000000   \n",
              "1925         0.229091  ...    29000.0  9.189624e-08     0.999173   \n",
              "1926         0.103111  ...  6640650.0  1.154713e+04     1.000000   \n",
              "1927         0.019105  ...  3515625.0  1.073111e+02     1.000000   \n",
              "1928         0.033118  ...  1640625.0  3.489123e+01     0.999429   \n",
              "\n",
              "          rwh_1_min     rwh_1_max    rwh_2_mean  rwh_2_coeff     rwh_2_min  \\\n",
              "0      7.875000e-06  7.875000e-06  2.385082e-21      0.00000  2.385082e-21   \n",
              "1      2.981244e-12  3.486744e+04  1.727721e+04      1.00000  1.358551e-53   \n",
              "2      1.525879e+03  1.525879e+03  1.525879e+03      0.00000  1.525879e+03   \n",
              "3      6.535723e-14  2.446504e-04  8.218628e-07      1.00000  1.499676e-61   \n",
              "4      6.912726e-42  3.318299e+04  1.665903e+04      1.00000  0.000000e+00   \n",
              "...             ...           ...           ...          ...           ...   \n",
              "1924  2.625169e-175  1.187499e+04  5.759320e+03      1.00000  0.000000e+00   \n",
              "1925   7.595547e-11  1.837165e-07  9.778364e-24      1.00000  3.978383e-33   \n",
              "1926   1.363938e-42  2.309426e+04  1.136608e+04      1.00000  0.000000e+00   \n",
              "1927   0.000000e+00  2.146221e+02  1.073113e+02      1.00000  0.000000e+00   \n",
              "1928   1.992578e-02  6.976254e+01  4.823067e+01      0.99921  3.808224e-02   \n",
              "\n",
              "         rwh_2_max  target  \n",
              "0     2.385082e-21       1  \n",
              "1     3.455442e+04       0  \n",
              "2     1.525879e+03       1  \n",
              "3     1.643726e-06       0  \n",
              "4     3.331807e+04       1  \n",
              "...            ...     ...  \n",
              "1924  1.151864e+04       1  \n",
              "1925  1.955673e-23       0  \n",
              "1926  2.273216e+04       0  \n",
              "1927  2.146226e+02       1  \n",
              "1928  9.642326e+01       0  \n",
              "\n",
              "[1929 rows x 328 columns]"
            ],
            "text/html": [
              "\n",
              "  <div id=\"df-4aef8ca2-cfa9-4e20-ae85-cac814c46a45\">\n",
              "    <div class=\"colab-df-container\">\n",
              "      <div>\n",
              "<style scoped>\n",
              "    .dataframe tbody tr th:only-of-type {\n",
              "        vertical-align: middle;\n",
              "    }\n",
              "\n",
              "    .dataframe tbody tr th {\n",
              "        vertical-align: top;\n",
              "    }\n",
              "\n",
              "    .dataframe thead th {\n",
              "        text-align: right;\n",
              "    }\n",
              "</style>\n",
              "<table border=\"1\" class=\"dataframe\">\n",
              "  <thead>\n",
              "    <tr style=\"text-align: right;\">\n",
              "      <th></th>\n",
              "      <th>c</th>\n",
              "      <th>v</th>\n",
              "      <th>clauses_vars_ratio</th>\n",
              "      <th>vars_clauses_ratio</th>\n",
              "      <th>vcg_var_mean</th>\n",
              "      <th>vcg_var_coeff</th>\n",
              "      <th>vcg_var_min</th>\n",
              "      <th>vcg_var_max</th>\n",
              "      <th>vcg_var_entropy</th>\n",
              "      <th>vcg_clause_mean</th>\n",
              "      <th>...</th>\n",
              "      <th>rwh_0_max</th>\n",
              "      <th>rwh_1_mean</th>\n",
              "      <th>rwh_1_coeff</th>\n",
              "      <th>rwh_1_min</th>\n",
              "      <th>rwh_1_max</th>\n",
              "      <th>rwh_2_mean</th>\n",
              "      <th>rwh_2_coeff</th>\n",
              "      <th>rwh_2_min</th>\n",
              "      <th>rwh_2_max</th>\n",
              "      <th>target</th>\n",
              "    </tr>\n",
              "  </thead>\n",
              "  <tbody>\n",
              "    <tr>\n",
              "      <th>0</th>\n",
              "      <td>420</td>\n",
              "      <td>10</td>\n",
              "      <td>42.000000</td>\n",
              "      <td>0.023810</td>\n",
              "      <td>0.600000</td>\n",
              "      <td>0.000000</td>\n",
              "      <td>0.600000</td>\n",
              "      <td>0.600000</td>\n",
              "      <td>0.000000</td>\n",
              "      <td>0.600000</td>\n",
              "      <td>...</td>\n",
              "      <td>78750.0</td>\n",
              "      <td>7.875000e-06</td>\n",
              "      <td>0.000000</td>\n",
              "      <td>7.875000e-06</td>\n",
              "      <td>7.875000e-06</td>\n",
              "      <td>2.385082e-21</td>\n",
              "      <td>0.00000</td>\n",
              "      <td>2.385082e-21</td>\n",
              "      <td>2.385082e-21</td>\n",
              "      <td>1</td>\n",
              "    </tr>\n",
              "    <tr>\n",
              "      <th>1</th>\n",
              "      <td>230</td>\n",
              "      <td>20</td>\n",
              "      <td>11.500000</td>\n",
              "      <td>0.086957</td>\n",
              "      <td>0.137826</td>\n",
              "      <td>0.089281</td>\n",
              "      <td>0.117391</td>\n",
              "      <td>0.160870</td>\n",
              "      <td>2.180946</td>\n",
              "      <td>0.137826</td>\n",
              "      <td>...</td>\n",
              "      <td>6646875.0</td>\n",
              "      <td>1.743372e+04</td>\n",
              "      <td>1.000000</td>\n",
              "      <td>2.981244e-12</td>\n",
              "      <td>3.486744e+04</td>\n",
              "      <td>1.727721e+04</td>\n",
              "      <td>1.00000</td>\n",
              "      <td>1.358551e-53</td>\n",
              "      <td>3.455442e+04</td>\n",
              "      <td>0</td>\n",
              "    </tr>\n",
              "    <tr>\n",
              "      <th>2</th>\n",
              "      <td>240</td>\n",
              "      <td>16</td>\n",
              "      <td>15.000000</td>\n",
              "      <td>0.066667</td>\n",
              "      <td>0.300000</td>\n",
              "      <td>0.000000</td>\n",
              "      <td>0.300000</td>\n",
              "      <td>0.300000</td>\n",
              "      <td>0.000000</td>\n",
              "      <td>0.300000</td>\n",
              "      <td>...</td>\n",
              "      <td>500000.0</td>\n",
              "      <td>1.525879e+03</td>\n",
              "      <td>0.000000</td>\n",
              "      <td>1.525879e+03</td>\n",
              "      <td>1.525879e+03</td>\n",
              "      <td>1.525879e+03</td>\n",
              "      <td>0.00000</td>\n",
              "      <td>1.525879e+03</td>\n",
              "      <td>1.525879e+03</td>\n",
              "      <td>1</td>\n",
              "    </tr>\n",
              "    <tr>\n",
              "      <th>3</th>\n",
              "      <td>424</td>\n",
              "      <td>30</td>\n",
              "      <td>14.133333</td>\n",
              "      <td>0.070755</td>\n",
              "      <td>0.226415</td>\n",
              "      <td>0.485913</td>\n",
              "      <td>0.056604</td>\n",
              "      <td>0.452830</td>\n",
              "      <td>2.220088</td>\n",
              "      <td>0.226415</td>\n",
              "      <td>...</td>\n",
              "      <td>87500.0</td>\n",
              "      <td>1.223252e-04</td>\n",
              "      <td>1.000000</td>\n",
              "      <td>6.535723e-14</td>\n",
              "      <td>2.446504e-04</td>\n",
              "      <td>8.218628e-07</td>\n",
              "      <td>1.00000</td>\n",
              "      <td>1.499676e-61</td>\n",
              "      <td>1.643726e-06</td>\n",
              "      <td>0</td>\n",
              "    </tr>\n",
              "    <tr>\n",
              "      <th>4</th>\n",
              "      <td>162</td>\n",
              "      <td>19</td>\n",
              "      <td>8.526316</td>\n",
              "      <td>0.117284</td>\n",
              "      <td>0.139701</td>\n",
              "      <td>0.121821</td>\n",
              "      <td>0.111111</td>\n",
              "      <td>0.185185</td>\n",
              "      <td>1.940843</td>\n",
              "      <td>0.139701</td>\n",
              "      <td>...</td>\n",
              "      <td>5859400.0</td>\n",
              "      <td>1.659149e+04</td>\n",
              "      <td>1.000000</td>\n",
              "      <td>6.912726e-42</td>\n",
              "      <td>3.318299e+04</td>\n",
              "      <td>1.665903e+04</td>\n",
              "      <td>1.00000</td>\n",
              "      <td>0.000000e+00</td>\n",
              "      <td>3.331807e+04</td>\n",
              "      <td>1</td>\n",
              "    </tr>\n",
              "    <tr>\n",
              "      <th>...</th>\n",
              "      <td>...</td>\n",
              "      <td>...</td>\n",
              "      <td>...</td>\n",
              "      <td>...</td>\n",
              "      <td>...</td>\n",
              "      <td>...</td>\n",
              "      <td>...</td>\n",
              "      <td>...</td>\n",
              "      <td>...</td>\n",
              "      <td>...</td>\n",
              "      <td>...</td>\n",
              "      <td>...</td>\n",
              "      <td>...</td>\n",
              "      <td>...</td>\n",
              "      <td>...</td>\n",
              "      <td>...</td>\n",
              "      <td>...</td>\n",
              "      <td>...</td>\n",
              "      <td>...</td>\n",
              "      <td>...</td>\n",
              "      <td>...</td>\n",
              "    </tr>\n",
              "    <tr>\n",
              "      <th>1924</th>\n",
              "      <td>910</td>\n",
              "      <td>50</td>\n",
              "      <td>18.200000</td>\n",
              "      <td>0.054945</td>\n",
              "      <td>0.045055</td>\n",
              "      <td>0.201127</td>\n",
              "      <td>0.024176</td>\n",
              "      <td>0.067033</td>\n",
              "      <td>3.204742</td>\n",
              "      <td>0.045055</td>\n",
              "      <td>...</td>\n",
              "      <td>7031250.0</td>\n",
              "      <td>5.937497e+03</td>\n",
              "      <td>1.000000</td>\n",
              "      <td>2.625169e-175</td>\n",
              "      <td>1.187499e+04</td>\n",
              "      <td>5.759320e+03</td>\n",
              "      <td>1.00000</td>\n",
              "      <td>0.000000e+00</td>\n",
              "      <td>1.151864e+04</td>\n",
              "      <td>1</td>\n",
              "    </tr>\n",
              "    <tr>\n",
              "      <th>1925</th>\n",
              "      <td>440</td>\n",
              "      <td>30</td>\n",
              "      <td>14.666667</td>\n",
              "      <td>0.068182</td>\n",
              "      <td>0.229091</td>\n",
              "      <td>0.463952</td>\n",
              "      <td>0.054545</td>\n",
              "      <td>0.436364</td>\n",
              "      <td>2.239837</td>\n",
              "      <td>0.229091</td>\n",
              "      <td>...</td>\n",
              "      <td>29000.0</td>\n",
              "      <td>9.189624e-08</td>\n",
              "      <td>0.999173</td>\n",
              "      <td>7.595547e-11</td>\n",
              "      <td>1.837165e-07</td>\n",
              "      <td>9.778364e-24</td>\n",
              "      <td>1.00000</td>\n",
              "      <td>3.978383e-33</td>\n",
              "      <td>1.955673e-23</td>\n",
              "      <td>0</td>\n",
              "    </tr>\n",
              "    <tr>\n",
              "      <th>1926</th>\n",
              "      <td>372</td>\n",
              "      <td>28</td>\n",
              "      <td>13.285714</td>\n",
              "      <td>0.075269</td>\n",
              "      <td>0.103111</td>\n",
              "      <td>0.081916</td>\n",
              "      <td>0.080645</td>\n",
              "      <td>0.112903</td>\n",
              "      <td>2.008196</td>\n",
              "      <td>0.103111</td>\n",
              "      <td>...</td>\n",
              "      <td>6640650.0</td>\n",
              "      <td>1.154713e+04</td>\n",
              "      <td>1.000000</td>\n",
              "      <td>1.363938e-42</td>\n",
              "      <td>2.309426e+04</td>\n",
              "      <td>1.136608e+04</td>\n",
              "      <td>1.00000</td>\n",
              "      <td>0.000000e+00</td>\n",
              "      <td>2.273216e+04</td>\n",
              "      <td>0</td>\n",
              "    </tr>\n",
              "    <tr>\n",
              "      <th>1927</th>\n",
              "      <td>821</td>\n",
              "      <td>181</td>\n",
              "      <td>4.535912</td>\n",
              "      <td>0.220463</td>\n",
              "      <td>0.019105</td>\n",
              "      <td>0.033859</td>\n",
              "      <td>0.017052</td>\n",
              "      <td>0.019488</td>\n",
              "      <td>0.696675</td>\n",
              "      <td>0.019105</td>\n",
              "      <td>...</td>\n",
              "      <td>3515625.0</td>\n",
              "      <td>1.073111e+02</td>\n",
              "      <td>1.000000</td>\n",
              "      <td>0.000000e+00</td>\n",
              "      <td>2.146221e+02</td>\n",
              "      <td>1.073113e+02</td>\n",
              "      <td>1.00000</td>\n",
              "      <td>0.000000e+00</td>\n",
              "      <td>2.146226e+02</td>\n",
              "      <td>1</td>\n",
              "    </tr>\n",
              "    <tr>\n",
              "      <th>1928</th>\n",
              "      <td>775</td>\n",
              "      <td>90</td>\n",
              "      <td>8.611111</td>\n",
              "      <td>0.116129</td>\n",
              "      <td>0.033118</td>\n",
              "      <td>0.018366</td>\n",
              "      <td>0.032258</td>\n",
              "      <td>0.033548</td>\n",
              "      <td>0.636514</td>\n",
              "      <td>0.033118</td>\n",
              "      <td>...</td>\n",
              "      <td>1640625.0</td>\n",
              "      <td>3.489123e+01</td>\n",
              "      <td>0.999429</td>\n",
              "      <td>1.992578e-02</td>\n",
              "      <td>6.976254e+01</td>\n",
              "      <td>4.823067e+01</td>\n",
              "      <td>0.99921</td>\n",
              "      <td>3.808224e-02</td>\n",
              "      <td>9.642326e+01</td>\n",
              "      <td>0</td>\n",
              "    </tr>\n",
              "  </tbody>\n",
              "</table>\n",
              "<p>1929 rows × 328 columns</p>\n",
              "</div>\n",
              "      <button class=\"colab-df-convert\" onclick=\"convertToInteractive('df-4aef8ca2-cfa9-4e20-ae85-cac814c46a45')\"\n",
              "              title=\"Convert this dataframe to an interactive table.\"\n",
              "              style=\"display:none;\">\n",
              "        \n",
              "  <svg xmlns=\"http://www.w3.org/2000/svg\" height=\"24px\"viewBox=\"0 0 24 24\"\n",
              "       width=\"24px\">\n",
              "    <path d=\"M0 0h24v24H0V0z\" fill=\"none\"/>\n",
              "    <path d=\"M18.56 5.44l.94 2.06.94-2.06 2.06-.94-2.06-.94-.94-2.06-.94 2.06-2.06.94zm-11 1L8.5 8.5l.94-2.06 2.06-.94-2.06-.94L8.5 2.5l-.94 2.06-2.06.94zm10 10l.94 2.06.94-2.06 2.06-.94-2.06-.94-.94-2.06-.94 2.06-2.06.94z\"/><path d=\"M17.41 7.96l-1.37-1.37c-.4-.4-.92-.59-1.43-.59-.52 0-1.04.2-1.43.59L10.3 9.45l-7.72 7.72c-.78.78-.78 2.05 0 2.83L4 21.41c.39.39.9.59 1.41.59.51 0 1.02-.2 1.41-.59l7.78-7.78 2.81-2.81c.8-.78.8-2.07 0-2.86zM5.41 20L4 18.59l7.72-7.72 1.47 1.35L5.41 20z\"/>\n",
              "  </svg>\n",
              "      </button>\n",
              "      \n",
              "  <style>\n",
              "    .colab-df-container {\n",
              "      display:flex;\n",
              "      flex-wrap:wrap;\n",
              "      gap: 12px;\n",
              "    }\n",
              "\n",
              "    .colab-df-convert {\n",
              "      background-color: #E8F0FE;\n",
              "      border: none;\n",
              "      border-radius: 50%;\n",
              "      cursor: pointer;\n",
              "      display: none;\n",
              "      fill: #1967D2;\n",
              "      height: 32px;\n",
              "      padding: 0 0 0 0;\n",
              "      width: 32px;\n",
              "    }\n",
              "\n",
              "    .colab-df-convert:hover {\n",
              "      background-color: #E2EBFA;\n",
              "      box-shadow: 0px 1px 2px rgba(60, 64, 67, 0.3), 0px 1px 3px 1px rgba(60, 64, 67, 0.15);\n",
              "      fill: #174EA6;\n",
              "    }\n",
              "\n",
              "    [theme=dark] .colab-df-convert {\n",
              "      background-color: #3B4455;\n",
              "      fill: #D2E3FC;\n",
              "    }\n",
              "\n",
              "    [theme=dark] .colab-df-convert:hover {\n",
              "      background-color: #434B5C;\n",
              "      box-shadow: 0px 1px 3px 1px rgba(0, 0, 0, 0.15);\n",
              "      filter: drop-shadow(0px 1px 2px rgba(0, 0, 0, 0.3));\n",
              "      fill: #FFFFFF;\n",
              "    }\n",
              "  </style>\n",
              "\n",
              "      <script>\n",
              "        const buttonEl =\n",
              "          document.querySelector('#df-4aef8ca2-cfa9-4e20-ae85-cac814c46a45 button.colab-df-convert');\n",
              "        buttonEl.style.display =\n",
              "          google.colab.kernel.accessAllowed ? 'block' : 'none';\n",
              "\n",
              "        async function convertToInteractive(key) {\n",
              "          const element = document.querySelector('#df-4aef8ca2-cfa9-4e20-ae85-cac814c46a45');\n",
              "          const dataTable =\n",
              "            await google.colab.kernel.invokeFunction('convertToInteractive',\n",
              "                                                     [key], {});\n",
              "          if (!dataTable) return;\n",
              "\n",
              "          const docLinkHtml = 'Like what you see? Visit the ' +\n",
              "            '<a target=\"_blank\" href=https://colab.research.google.com/notebooks/data_table.ipynb>data table notebook</a>'\n",
              "            + ' to learn more about interactive tables.';\n",
              "          element.innerHTML = '';\n",
              "          dataTable['output_type'] = 'display_data';\n",
              "          await google.colab.output.renderOutput(dataTable, element);\n",
              "          const docLink = document.createElement('div');\n",
              "          docLink.innerHTML = docLinkHtml;\n",
              "          element.appendChild(docLink);\n",
              "        }\n",
              "      </script>\n",
              "    </div>\n",
              "  </div>\n",
              "  "
            ]
          },
          "metadata": {},
          "execution_count": 31
        }
      ]
    },
    {
      "cell_type": "code",
      "source": [
        "df.replace([np.inf, -np.inf], np.nan, inplace=True)"
      ],
      "metadata": {
        "id": "Myr-bCfuTIfb"
      },
      "execution_count": 32,
      "outputs": []
    },
    {
      "cell_type": "code",
      "source": [
        "df = df.fillna(0)"
      ],
      "metadata": {
        "id": "z1NfJnXJTeOG"
      },
      "execution_count": 33,
      "outputs": []
    },
    {
      "cell_type": "markdown",
      "source": [
        "KNN"
      ],
      "metadata": {
        "id": "A7epIfcOUKwT"
      }
    },
    {
      "cell_type": "code",
      "source": [
        "from sklearn.model_selection import train_test_split\n",
        "from sklearn.preprocessing import StandardScaler\n",
        "X = df.drop('target', axis=1)   #X variable\n",
        "y = df['target']  # target variable"
      ],
      "metadata": {
        "id": "Ncew5EzCQvIt"
      },
      "execution_count": 34,
      "outputs": []
    },
    {
      "cell_type": "code",
      "source": [
        "X_train, X_test, y_train, y_test = train_test_split(X, y, test_size=0.3, random_state=42)\n",
        "scaler = StandardScaler()\n",
        "#Scaled the feature data\n",
        "scaled_X_train = scaler.fit_transform(X_train)\n",
        "scaled_X_test = scaler.transform(X_test)\n",
        "#Perform KNN\n",
        "from sklearn.neighbors import KNeighborsClassifier\n",
        "knn_model = KNeighborsClassifier(n_neighbors=1)\n",
        "knn_model.fit(scaled_X_train,y_train)"
      ],
      "metadata": {
        "colab": {
          "base_uri": "https://localhost:8080/"
        },
        "id": "CsqbXQr6RaL6",
        "outputId": "1f572323-7f86-41b5-a87a-3237e2a41401"
      },
      "execution_count": 35,
      "outputs": [
        {
          "output_type": "execute_result",
          "data": {
            "text/plain": [
              "KNeighborsClassifier(n_neighbors=1)"
            ]
          },
          "metadata": {},
          "execution_count": 35
        }
      ]
    },
    {
      "cell_type": "code",
      "source": [
        "from sklearn.metrics import classification_report,confusion_matrix,accuracy_score\n",
        "y_pred = knn_model.predict(scaled_X_test)\n",
        "accuracy_score(y_test,y_pred)\n",
        "confusion_matrix(y_test,y_pred)\n",
        "print(classification_report(y_test,y_pred))\n",
        "print('Accuracy for KNN:',accuracy_score(y_test,y_pred))\n",
        "#Accuarcy is 93 which is quite good"
      ],
      "metadata": {
        "colab": {
          "base_uri": "https://localhost:8080/"
        },
        "id": "BlBqjO26Tkg4",
        "outputId": "91e57f34-4a4f-4d42-d544-767a38ecb7e4"
      },
      "execution_count": 49,
      "outputs": [
        {
          "output_type": "stream",
          "name": "stdout",
          "text": [
            "              precision    recall  f1-score   support\n",
            "\n",
            "           0       0.92      0.93      0.93       292\n",
            "           1       0.93      0.92      0.92       287\n",
            "\n",
            "    accuracy                           0.93       579\n",
            "   macro avg       0.93      0.93      0.93       579\n",
            "weighted avg       0.93      0.93      0.93       579\n",
            "\n",
            "Accuracy for KNN: 0.92573402417962\n"
          ]
        }
      ]
    },
    {
      "cell_type": "markdown",
      "source": [
        "DECISION TREE"
      ],
      "metadata": {
        "id": "QrNulF-_UG5S"
      }
    },
    {
      "cell_type": "code",
      "source": [
        "from sklearn.tree import DecisionTreeClassifier\n",
        "Xd_train, Xd_test, yd_train, yd_test = train_test_split(X, y, test_size=0.3, random_state=42)\n",
        "model = DecisionTreeClassifier()\n",
        "model.fit(Xd_train,yd_train)   #fitted the training data which is unscaled \n",
        "\n",
        "base_pred = model.predict(Xd_test)   #predict on feature test data\n",
        "\n",
        "confusion_matrix(yd_test,base_pred)   #Accuracy\n",
        "print(classification_report(yd_test,base_pred))  \n",
        "\n",
        "print('Accuracy for Decision tree:',accuracy_score(yd_test,base_pred))\n",
        "\n",
        "#Accuracy is quite good for decison tree on unscaled data "
      ],
      "metadata": {
        "colab": {
          "base_uri": "https://localhost:8080/"
        },
        "id": "3mbGe3EYUJIL",
        "outputId": "bcbd8c2c-1c51-495a-8a69-4e5472119fad"
      },
      "execution_count": 50,
      "outputs": [
        {
          "output_type": "stream",
          "name": "stdout",
          "text": [
            "              precision    recall  f1-score   support\n",
            "\n",
            "           0       0.97      0.98      0.97       292\n",
            "           1       0.98      0.97      0.97       287\n",
            "\n",
            "    accuracy                           0.97       579\n",
            "   macro avg       0.97      0.97      0.97       579\n",
            "weighted avg       0.97      0.97      0.97       579\n",
            "\n",
            "Accuracy for Decision tree: 0.9723661485319517\n"
          ]
        }
      ]
    },
    {
      "cell_type": "markdown",
      "source": [
        "Robust Evaluation"
      ],
      "metadata": {
        "id": "0CUZBv--VsEJ"
      }
    },
    {
      "cell_type": "code",
      "source": [
        "from sklearn.preprocessing import StandardScaler\n",
        "from sklearn.decomposition import PCA\n",
        "from sklearn.pipeline import Pipeline\n",
        "from sklearn.model_selection import GridSearchCV\n",
        "\n",
        "scaler = StandardScaler()  \n",
        "pca = PCA()\n",
        "\n",
        "#Doing scaling\n",
        "operations = [('scaler',scaler),('pca',pca)]   #Feature Normalisation and Feature Reduction\n",
        "pipe = Pipeline(operations)    #pipeline for scaler and PCA operation to perform at continous\n",
        "param_grid = {\n",
        "    'pca__n_components': [5, 15, 30, 45, 64]      \n",
        "}\n",
        "\n",
        "full_tuning = GridSearchCV(pipe, param_grid, cv=5, n_jobs=-1)   #performing Grid search CV for better feature reduction \n",
        "full_tuning.fit(X_train, y_train)   #Fitting the result of gridsearch cv\n",
        "print(full_tuning.best_params_)  #bringing best parameter for PCA \n",
        "\n",
        "X_train_scaled_pca = full_tuning.transform(X_train)  #transforming feature training data\n",
        "X_test_scaled_pca = full_tuning.transform(X_test) ##transforming feature test data\n"
      ],
      "metadata": {
        "colab": {
          "base_uri": "https://localhost:8080/"
        },
        "id": "r8BD19mQ9MKz",
        "outputId": "c2c88e14-a908-4317-f631-a57b5d7b6ad0"
      },
      "execution_count": 38,
      "outputs": [
        {
          "output_type": "stream",
          "name": "stdout",
          "text": [
            "{'pca__n_components': 64}\n"
          ]
        }
      ]
    },
    {
      "cell_type": "code",
      "source": [
        "#performing hyperparameter tuning above and taking it's output as an input here for better accuarcy for KNN\n",
        "from sklearn.model_selection import GridSearchCV\n",
        "k_values = list(range(1,30))\n",
        "param_grid_knn = {'knn__n_neighbors': k_values}\n",
        "knn = KNeighborsClassifier()\n",
        "ope = [('knn', knn)]\n",
        "pipe_knn = Pipeline(ope)\n",
        "\n",
        "full_cv_classifier = GridSearchCV(pipe_knn,param_grid_knn,cv=5,scoring='accuracy')\n",
        "full_cv_classifier.fit(X_train_scaled_pca,y_train)\n",
        "pred_knn = full_cv_classifier.predict(X_test_scaled_pca)\n",
        "\n",
        "print(\"Best parameter (CV score=%0.3f):\" % full_cv_classifier.best_score_)\n",
        "print(full_cv_classifier.best_params_)\n",
        "\n",
        "confusion_matrix(y_test,pred_knn)\n",
        "print(accuracy_score(y_test,pred_knn))\n"
      ],
      "metadata": {
        "colab": {
          "base_uri": "https://localhost:8080/"
        },
        "id": "9h0T7QkIFDd-",
        "outputId": "0fd7c54c-12ae-45b4-b8b1-2bdeb9679f80"
      },
      "execution_count": 39,
      "outputs": [
        {
          "output_type": "stream",
          "name": "stdout",
          "text": [
            "Best parameter (CV score=0.908):\n",
            "{'knn__n_neighbors': 4}\n",
            "0.9067357512953368\n"
          ]
        }
      ]
    },
    {
      "cell_type": "code",
      "source": [
        "full_tuning.fit(Xd_train, yd_train)   #Fitting the result of gridsearch cv\n",
        "\n",
        "X_train_scaled_pca_d = full_tuning.transform(Xd_train)  #transforming feature training data\n",
        "X_test_scaled_pca_d = full_tuning.transform(Xd_test) \n",
        "\n",
        "model.fit(X_train_scaled_pca_d,yd_train)   #fitted the training data which is unscaled \n",
        "\n",
        "base_pred_h = model.predict(X_test_scaled_pca_d)   #predict on feature test data\n",
        "\n",
        "confusion_matrix(yd_test,base_pred_h)   #Accuracy\n",
        "print(classification_report(yd_test,base_pred_h)) \n",
        "print(accuracy_score(yd_test,base_pred_h))\n"
      ],
      "metadata": {
        "colab": {
          "base_uri": "https://localhost:8080/"
        },
        "id": "PoMHDvkoMhQZ",
        "outputId": "28738fda-32eb-4300-830a-f3da472bbf03"
      },
      "execution_count": 46,
      "outputs": [
        {
          "output_type": "stream",
          "name": "stdout",
          "text": [
            "              precision    recall  f1-score   support\n",
            "\n",
            "           0       0.86      0.88      0.87       292\n",
            "           1       0.88      0.86      0.87       287\n",
            "\n",
            "    accuracy                           0.87       579\n",
            "   macro avg       0.87      0.87      0.87       579\n",
            "weighted avg       0.87      0.87      0.87       579\n",
            "\n",
            "0.8687392055267703\n"
          ]
        }
      ]
    },
    {
      "cell_type": "markdown",
      "source": [
        "New Classififer"
      ],
      "metadata": {
        "id": "UGxlRxA3FFXr"
      }
    },
    {
      "cell_type": "code",
      "source": [
        "from sklearn.ensemble import RandomForestClassifier\n",
        "#Here I am doing Hyperparameter Exploration for Choosing best value of random forest parameters\n",
        "\n",
        "oob_score = [True,False]\n",
        "n_estimators = [int(x) for x in np.linspace(start = 100, stop = 500, num = 10)]\n",
        "max_features = ['log2', 'sqrt']\n",
        "bootstrap = [True, False]\n",
        "\n",
        "param_grid = {'n_estimators':n_estimators,\n",
        "             'max_features':max_features,\n",
        "             'bootstrap':bootstrap,\n",
        "             'oob_score':oob_score} \n",
        "\n",
        "#creating object of RandomForestClassifier()\n",
        "rfc = RandomForestClassifier()\n",
        "full_cv_classifier = GridSearchCV(rfc,param_grid, cv=5, verbose = 1, n_jobs=-1)  #Grid search CV for best parameters\n",
        "\n",
        "full_cv_classifier.fit(X_train_scaled_pca,y_train)\n",
        "\n",
        "pred = full_cv_classifier.predict(X_test_scaled_pca)\n",
        "\n",
        "print(\"Best parameter (CV score=%0.3f):\" % full_cv_classifier.best_score_)\n",
        "print(full_cv_classifier.best_params_)\n",
        "\n",
        "confusion_matrix(y_test,pred)   #Accuracy 94%\n",
        "print(accuracy_score(y_test,pred))"
      ],
      "metadata": {
        "colab": {
          "base_uri": "https://localhost:8080/"
        },
        "id": "U0aU8H-5_coM",
        "outputId": "26636db1-0296-4527-fe24-33d3fa727358"
      },
      "execution_count": 41,
      "outputs": [
        {
          "output_type": "stream",
          "name": "stdout",
          "text": [
            "Fitting 5 folds for each of 80 candidates, totalling 400 fits\n"
          ]
        },
        {
          "output_type": "stream",
          "name": "stderr",
          "text": [
            "/usr/local/lib/python3.7/dist-packages/sklearn/model_selection/_validation.py:372: FitFailedWarning: \n",
            "100 fits failed out of a total of 400.\n",
            "The score on these train-test partitions for these parameters will be set to nan.\n",
            "If these failures are not expected, you can try to debug them by setting error_score='raise'.\n",
            "\n",
            "Below are more details about the failures:\n",
            "--------------------------------------------------------------------------------\n",
            "100 fits failed with the following error:\n",
            "Traceback (most recent call last):\n",
            "  File \"/usr/local/lib/python3.7/dist-packages/sklearn/model_selection/_validation.py\", line 680, in _fit_and_score\n",
            "    estimator.fit(X_train, y_train, **fit_params)\n",
            "  File \"/usr/local/lib/python3.7/dist-packages/sklearn/ensemble/_forest.py\", line 411, in fit\n",
            "    raise ValueError(\"Out of bag estimation only available if bootstrap=True\")\n",
            "ValueError: Out of bag estimation only available if bootstrap=True\n",
            "\n",
            "  warnings.warn(some_fits_failed_message, FitFailedWarning)\n",
            "/usr/local/lib/python3.7/dist-packages/sklearn/model_selection/_search.py:972: UserWarning: One or more of the test scores are non-finite: [0.93111111 0.92888889 0.93333333 0.92518519 0.93259259 0.92666667\n",
            " 0.93259259 0.93259259 0.92888889 0.93333333 0.92962963 0.93111111\n",
            " 0.93185185 0.92962963 0.9362963  0.93555556 0.93111111 0.93481481\n",
            " 0.92962963 0.93703704 0.92814815 0.92592593 0.93925926 0.93111111\n",
            " 0.93407407 0.93185185 0.92962963 0.93185185 0.92740741 0.93333333\n",
            " 0.93259259 0.93703704 0.93111111 0.92814815 0.93481481 0.93481481\n",
            " 0.93037037 0.93111111 0.93555556 0.93481481        nan 0.92962963\n",
            "        nan 0.93037037        nan 0.93925926        nan 0.93111111\n",
            "        nan 0.92888889        nan 0.93111111        nan 0.93333333\n",
            "        nan 0.93185185        nan 0.93185185        nan 0.93333333\n",
            "        nan 0.93037037        nan 0.92740741        nan 0.92740741\n",
            "        nan 0.93333333        nan 0.93185185        nan 0.93407407\n",
            "        nan 0.93185185        nan 0.93111111        nan 0.93111111\n",
            "        nan 0.93407407]\n",
            "  category=UserWarning,\n"
          ]
        },
        {
          "output_type": "stream",
          "name": "stdout",
          "text": [
            "Best parameter (CV score=0.939):\n",
            "{'bootstrap': True, 'max_features': 'sqrt', 'n_estimators': 144, 'oob_score': True}\n",
            "0.9499136442141624\n"
          ]
        }
      ]
    },
    {
      "cell_type": "code",
      "source": [
        "full_cv_classifier.best_params_"
      ],
      "metadata": {
        "colab": {
          "base_uri": "https://localhost:8080/"
        },
        "id": "7a-OQBiAa_jP",
        "outputId": "b1f5071e-3487-4613-84e1-dadbf4cff716"
      },
      "execution_count": 51,
      "outputs": [
        {
          "output_type": "execute_result",
          "data": {
            "text/plain": [
              "{'bootstrap': True,\n",
              " 'max_features': 'sqrt',\n",
              " 'n_estimators': 144,\n",
              " 'oob_score': True}"
            ]
          },
          "metadata": {},
          "execution_count": 51
        }
      ]
    },
    {
      "cell_type": "code",
      "source": [
        "confusion_matrix(y_test,pred)\n",
        "print(accuracy_score(y_test,pred))"
      ],
      "metadata": {
        "colab": {
          "base_uri": "https://localhost:8080/"
        },
        "id": "xZeeQ86-E76p",
        "outputId": "022cf26f-52b6-4631-c6b2-2f25a04da24d"
      },
      "execution_count": 42,
      "outputs": [
        {
          "output_type": "stream",
          "name": "stdout",
          "text": [
            "0.9499136442141624\n"
          ]
        }
      ]
    },
    {
      "cell_type": "code",
      "source": [
        "from sklearn.pipeline import Pipeline\n",
        "from sklearn.model_selection import GridSearchCV\n",
        "\n",
        "#Pick up the random forest best parameters\n",
        "RandomForest = RandomForestClassifier(n_estimators = 144, max_features='sqrt', bootstrap=True, oob_score=True)\n",
        "\n",
        "RandomForest.fit(X_train, y_train)\n",
        "pred = RandomForest.predict(X_test)\n",
        "\n",
        "\n",
        "confusion_matrix(y_test,pred)\n",
        "print(accuracy_score(y_test,pred))"
      ],
      "metadata": {
        "colab": {
          "base_uri": "https://localhost:8080/"
        },
        "id": "CrWYaN8eEZOY",
        "outputId": "95ed21c6-3598-45ee-d2e9-f6ac5db86c72"
      },
      "execution_count": 57,
      "outputs": [
        {
          "output_type": "stream",
          "name": "stdout",
          "text": [
            "0.9930915371329879\n"
          ]
        }
      ]
    },
    {
      "cell_type": "markdown",
      "source": [
        "Reference:  https://towardsdatascience.com/machine-learning-step-by-step-6fbde95c455a"
      ],
      "metadata": {
        "id": "8yTGJiQtMVNx"
      }
    },
    {
      "cell_type": "code",
      "source": [
        "print(full_cv_classifier.best)"
      ],
      "metadata": {
        "colab": {
          "base_uri": "https://localhost:8080/"
        },
        "id": "WZpsG4EabuOx",
        "outputId": "bfdd278c-6d9d-4cda-dc71-21df968f20ed"
      },
      "execution_count": 54,
      "outputs": [
        {
          "output_type": "stream",
          "name": "stdout",
          "text": [
            "GridSearchCV(cv=5, estimator=RandomForestClassifier(), n_jobs=-1,\n",
            "             param_grid={'bootstrap': [True, False],\n",
            "                         'max_features': ['log2', 'sqrt'],\n",
            "                         'n_estimators': [100, 144, 188, 233, 277, 322, 366,\n",
            "                                          411, 455, 500],\n",
            "                         'oob_score': [True, False]},\n",
            "             verbose=1)\n"
          ]
        }
      ]
    },
    {
      "cell_type": "code",
      "source": [
        "import pickle\n",
        "pickle.dump(RandomForest, open(\"RandomForest.pkl\", \"wb\"))"
      ],
      "metadata": {
        "id": "FG9k8zhXamgv"
      },
      "execution_count": 58,
      "outputs": []
    },
    {
      "cell_type": "code",
      "source": [
        "from joblib import dump, load\n",
        "from io import BytesIO\n",
        "import requests\n",
        "\n",
        "# # INSERT YOUR MODEL'S URL\n",
        "# mLink = 'URL_OF_YOUR_MODEL_SAVED_IN_YOUR_GITHUB_REPOSITORY?raw=true'\n",
        "# mfile = BytesIO(requests.get(mLink).content)\n",
        "# model = load(mfile)\n",
        "# # YOUR CODE HERE"
      ],
      "metadata": {
        "id": "OGmis9QPYopz"
      },
      "execution_count": 61,
      "outputs": []
    },
    {
      "cell_type": "code",
      "source": [
        "mLink = 'https://github.com/dubeykanishka/DataMinig_Assignment2/blob/main/RandomForest.pkl?raw=true'\n",
        "\n",
        "mfile = BytesIO(requests.get(mLink).content)\n",
        "\n",
        "model = load(mfile)\n",
        "\n",
        "test_data = pd.read_csv(\"https://github.com/andvise/DataAnalyticsDatasets/blob/main/dm_assignment2/sat_dataset_test.csv?raw=true\")\n",
        "\n",
        "test_data.replace([np.inf,-np.inf],np.nan,inplace=True)\n",
        "\n",
        "test_data=test_data.fillna(0)\n",
        "\n",
        "\n",
        "\n",
        "#index_val=list(df_features_svm.feature)\n",
        "\n",
        "X_test=test_data\n",
        "\n",
        "X_test=X_test.drop(['target'],axis=1)\n",
        "\n",
        "Y_test=test_data.target\n",
        "\n",
        "print(model.score(X_test,Y_test))"
      ],
      "metadata": {
        "colab": {
          "base_uri": "https://localhost:8080/"
        },
        "id": "-BbwPSFZdJfg",
        "outputId": "584aaf7f-9023-49ff-b258-cd3012ec829c"
      },
      "execution_count": 63,
      "outputs": [
        {
          "output_type": "stream",
          "name": "stdout",
          "text": [
            "0.9917184265010351\n"
          ]
        }
      ]
    }
  ]
}